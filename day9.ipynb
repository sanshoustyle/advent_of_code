{
 "cells": [
  {
   "cell_type": "code",
   "execution_count": null,
   "metadata": {},
   "outputs": [],
   "source": [
    "from collections import defaultdict\n",
    "def smoke_basin1(file_name):\n",
    "    f = open(file_name, 'r')\n",
    "    def get_risk(grid):\n",
    "        rows = len(grid)\n",
    "        cols = len(grid[0])\n",
    "        neis = [(0, -1), (-1, 0), (1, 0), (0, 1)]\n",
    "        risk_total = 0\n",
    "        for row in range(rows):\n",
    "            for col in range(cols):\n",
    "                height = grid[row][col]\n",
    "                is_low = True\n",
    "                for d_r, d_c in neis:\n",
    "                    r_n = row + d_r\n",
    "                    c_n = col + d_c\n",
    "                    if r_n >= 0 and r_n < rows and c_n >= 0 and c_n < cols and grid[r_n][c_n] <= height:\n",
    "                        is_low = False\n",
    "                        break\n",
    "                if is_low: \n",
    "#                     print(f'adding from {height=}, {row=}, {col=}')\n",
    "                    risk_total += height + 1\n",
    "        return risk_total\n",
    "                    \n",
    "    grid = []\n",
    "    for line in f:\n",
    "        grid.append([])\n",
    "        for num_str in list(line.strip()):\n",
    "            grid[-1].append(int(num_str))\n",
    "    risk_total = get_risk(grid)\n",
    "    return risk_total\n",
    "print(smoke_basin1('input.txt'))"
   ]
  },
  {
   "cell_type": "code",
   "execution_count": 27,
   "metadata": {},
   "outputs": [
    {
     "name": "stdout",
     "output_type": "stream",
     "text": [
      "1047744\n"
     ]
    }
   ],
   "source": [
    "from collections import defaultdict\n",
    "def smoke_basin2(file_name):\n",
    "    # do dfs from the low points\n",
    "    f = open(file_name, 'r')\n",
    "    visited = set()\n",
    "    grid = []\n",
    "\n",
    "    for line in f:\n",
    "        grid.append([])\n",
    "        for num_str in list(line.strip()):\n",
    "            grid[-1].append(int(num_str))\n",
    "    \n",
    "    def visit(row, col):\n",
    "        if row >= 0 and row < rows and col >= 0 and col < cols and grid[row][col] < MAX_HEIGHT and \\\n",
    "                (row, col) not in visited:\n",
    "            visited.add((row, col))\n",
    "            for d_r, d_c in neis:\n",
    "                r_n = row + d_r\n",
    "                c_n = col + d_c\n",
    "                visit(r_n, c_n)\n",
    "    \n",
    "    def get_risk(grid):\n",
    "        basin_sizes = []\n",
    "        for row in range(rows):\n",
    "            for col in range(cols):\n",
    "                height = grid[row][col]\n",
    "                if height < MAX_HEIGHT and (row, col) not in visited:\n",
    "                    pre_visit_size = len(visited)\n",
    "                    visit(row, col)\n",
    "                    post_visit_size = len(visited)\n",
    "                    basin_sizes.append(post_visit_size - pre_visit_size)\n",
    "        basin_sizes.sort()\n",
    "        return basin_sizes[-3]*basin_sizes[-2]*basin_sizes[-1]\n",
    "                    \n",
    "    rows = len(grid)\n",
    "    cols = len(grid[0])\n",
    "    neis = [(0, -1), (-1, 0), (1, 0), (0, 1)]\n",
    "    MAX_HEIGHT = 9\n",
    "\n",
    "    risk_total = get_risk(grid)\n",
    "    return risk_total\n",
    "print(smoke_basin2('input.txt'))"
   ]
  },
  {
   "cell_type": "code",
   "execution_count": null,
   "metadata": {},
   "outputs": [],
   "source": []
  }
 ],
 "metadata": {
  "kernelspec": {
   "display_name": "Python 3",
   "language": "python",
   "name": "python3"
  },
  "language_info": {
   "codemirror_mode": {
    "name": "ipython",
    "version": 3
   },
   "file_extension": ".py",
   "mimetype": "text/x-python",
   "name": "python",
   "nbconvert_exporter": "python",
   "pygments_lexer": "ipython3",
   "version": "3.8.5"
  }
 },
 "nbformat": 4,
 "nbformat_minor": 4
}
