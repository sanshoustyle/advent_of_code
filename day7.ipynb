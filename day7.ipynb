{
 "cells": [
  {
   "cell_type": "code",
   "execution_count": null,
   "metadata": {},
   "outputs": [],
   "source": [
    "from collections import defaultdict\n",
    "def the_treachery_of_whales1(file_name):\n",
    "    f = open(file_name, 'r')\n",
    "    def find_least_dist(init_crabs):\n",
    "        init_crabs.sort()\n",
    "        n = len(init_crabs)\n",
    "        med = init_crabs[n//2-1]\n",
    "        if n % 2 == 0: med = round((med + init_crabs[n//2]) / 2)\n",
    "        least_dist = 0\n",
    "        for crab_pos in init_crabs:\n",
    "            least_dist += abs(crab_pos - med)\n",
    "        return least_dist\n",
    "    for line in f:\n",
    "        init_crabs = [int(num_str) for num_str in line.split(',')]\n",
    "        total_dist = find_least_dist(init_crabs)\n",
    "        return total_dist\n",
    "print(the_treachery_of_whales1('input.txt'))"
   ]
  },
  {
   "cell_type": "code",
   "execution_count": 21,
   "metadata": {},
   "outputs": [
    {
     "name": "stdout",
     "output_type": "stream",
     "text": [
      "\n",
      "489501\n",
      "490\n",
      "init_crabs[0]=0, init_crabs[-1]=1941, sum(init_crabs)=489501, n=1000\n",
      "104822130\n"
     ]
    }
   ],
   "source": [
    "from collections import defaultdict\n",
    "def the_treachery_of_whales2(file_name):\n",
    "    f = open(file_name, 'r')\n",
    "    def cost_function(diff):\n",
    "        return diff * (diff+1) // 2\n",
    "    def find_least_cost(init_crabs):\n",
    "        init_crabs.sort()\n",
    "        print()\n",
    "        n = len(init_crabs)\n",
    "        print(sum(init_crabs))\n",
    "        midpt = round(sum(init_crabs) / n)\n",
    "        print(midpt)\n",
    "        least_cost = float('inf')\n",
    "        for test_pt in range(midpt-1, midpt+1):\n",
    "            curr_cost = 0\n",
    "            for crab_pos in init_crabs:\n",
    "                curr_cost += cost_function(abs(crab_pos - test_pt))\n",
    "            least_cost = min(least_cost, curr_cost)\n",
    "        print(f'{init_crabs[0]=}, {init_crabs[-1]=}, {sum(init_crabs)=}, {n=}')\n",
    "        return least_cost\n",
    "    for line in f:\n",
    "        init_crabs = [int(num_str) for num_str in line.split(',')]\n",
    "        total_cost = find_least_cost(init_crabs)\n",
    "        return total_cost\n",
    "print(the_treachery_of_whales2('input.txt'))\n",
    "\n",
    "# 104822244 too high\n",
    "# can brute force by trying all the points"
   ]
  },
  {
   "cell_type": "code",
   "execution_count": null,
   "metadata": {},
   "outputs": [],
   "source": []
  }
 ],
 "metadata": {
  "kernelspec": {
   "display_name": "Python 3",
   "language": "python",
   "name": "python3"
  },
  "language_info": {
   "codemirror_mode": {
    "name": "ipython",
    "version": 3
   },
   "file_extension": ".py",
   "mimetype": "text/x-python",
   "name": "python",
   "nbconvert_exporter": "python",
   "pygments_lexer": "ipython3",
   "version": "3.8.5"
  }
 },
 "nbformat": 4,
 "nbformat_minor": 4
}
