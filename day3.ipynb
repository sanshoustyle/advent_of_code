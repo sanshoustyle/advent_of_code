{
 "cells": [
  {
   "cell_type": "code",
   "execution_count": 23,
   "metadata": {},
   "outputs": [
    {
     "data": {
      "text/plain": [
       "1082324"
      ]
     },
     "execution_count": 23,
     "metadata": {},
     "output_type": "execute_result"
    }
   ],
   "source": [
    "from collections import defaultdict\n",
    "def binary_diagnostic1(file_name):\n",
    "    f = open(file_name, 'r')\n",
    "    total_count = 0\n",
    "    pos_num_ones_map = defaultdict(int) # right to left pos: num_ones\n",
    "    def update_map(val, n): \n",
    "        while n > 0:\n",
    "            n -= 1\n",
    "            pos_num_ones_map[n] += val & 1\n",
    "            val >>= 1\n",
    "            \n",
    "    for bin_str in f:\n",
    "        val = int(bin_str, 2)\n",
    "        n = len(bin_str.strip())\n",
    "        update_map(val, n)\n",
    "        total_count += 1\n",
    "#         print(f'{n=}, {val=}, {bin_str=}, {pos_num_ones_map=}, {total_count=}')\n",
    "\n",
    "    gamma = 0\n",
    "    epsilon = 0\n",
    "    for i in range(n):\n",
    "        gamma <<= 1\n",
    "        res = 1 if pos_num_ones_map[i] >= total_count // 2 else 0 \n",
    "        gamma |= res\n",
    "        epsilon <<= 1\n",
    "        epsilon |= 1 ^ res\n",
    "#         print(f'{res=}, {gamma=}, {epsilon=}')\n",
    "    return gamma*epsilon\n",
    "binary_diagnostic1('input.txt')"
   ]
  },
  {
   "cell_type": "code",
   "execution_count": 70,
   "metadata": {},
   "outputs": [
    {
     "name": "stdout",
     "output_type": "stream",
     "text": [
      "\n",
      "1353024\n"
     ]
    }
   ],
   "source": [
    "from collections import defaultdict\n",
    "import copy\n",
    "def binary_diagnostic2(file_name):\n",
    "    f = open(file_name, 'r')\n",
    "    total_count = 0\n",
    "    pos_num_ones_map = defaultdict(int) # right to left pos: num_ones\n",
    "    def update_map(val, n): \n",
    "        while n > 0:\n",
    "            n -= 1\n",
    "            pos_num_ones_map[n] += val & 1\n",
    "            val >>= 1\n",
    "    vals = []\n",
    "    # preprocessing    \n",
    "    for bin_str in f:\n",
    "        val = int(bin_str, 2)\n",
    "        vals.append(bin_str.strip())\n",
    "        n = len(bin_str.strip())\n",
    "        update_map(val, n)\n",
    "        total_count += 1\n",
    "#         print(f'{n=}, {val=}, {bin_str=}, {pos_num_ones_map=}, {total_count=}')\n",
    "            \n",
    "    # generate oxygen\n",
    "    oxygens = vals[:]\n",
    "    last_valid_val = None\n",
    "    pos_num_ones_map_copy = copy.copy(pos_num_ones_map)\n",
    "    for i in range(n):\n",
    "        new_oxygens = []\n",
    "        most_common_at_i = 1 if pos_num_ones_map_copy[i] >= len(oxygens) / 2 else 0\n",
    "#         print(f'{i=}, {most_common_at_i=}')\n",
    "        for val in oxygens:\n",
    "            if most_common_at_i != int(val[i]):\n",
    "                for j in range(n): # remove vals from map\n",
    "                    pos_num_ones_map_copy[j] -= 1 if int(val[j]) == 1 else 0\n",
    "                continue\n",
    "            last_valid_val = val\n",
    "            new_oxygens.append(last_valid_val)\n",
    "        oxygens = new_oxygens\n",
    "#         print(f'  {i=}, {oxygens=}, {pos_num_ones_map_copy=}')\n",
    "    oxygen = int(last_valid_val,2)\n",
    "    # generate co2\n",
    "    co2s = vals[:]\n",
    "    last_valid_val = None\n",
    "    pos_num_ones_map_copy = copy.copy(pos_num_ones_map)\n",
    "    print()\n",
    "    for i in range(n):\n",
    "        new_co2s = []\n",
    "        least_common_at_i = 1 if pos_num_ones_map_copy[i] < len(co2s) / 2 else 0\n",
    "#         print(f'{i=}, {least_common_at_i=}')\n",
    "        for val in co2s:\n",
    "            if least_common_at_i != int(val[i]):\n",
    "                for j in range(n): # remove vals from map\n",
    "                    pos_num_ones_map_copy[j] -= 1 if int(val[j]) == 1 else 0\n",
    "                continue\n",
    "            last_valid_val = val\n",
    "            new_co2s.append(last_valid_val)\n",
    "        co2s = new_co2s\n",
    "#         print(f'  {i=}, {co2s=}, {pos_num_ones_map_copy=}')\n",
    "    co2 = int(last_valid_val,2)\n",
    "    return oxygen*co2\n",
    "print(binary_diagnostic2('input.txt'))"
   ]
  },
  {
   "cell_type": "code",
   "execution_count": null,
   "metadata": {},
   "outputs": [],
   "source": []
  }
 ],
 "metadata": {
  "kernelspec": {
   "display_name": "Python 3",
   "language": "python",
   "name": "python3"
  },
  "language_info": {
   "codemirror_mode": {
    "name": "ipython",
    "version": 3
   },
   "file_extension": ".py",
   "mimetype": "text/x-python",
   "name": "python",
   "nbconvert_exporter": "python",
   "pygments_lexer": "ipython3",
   "version": "3.8.5"
  }
 },
 "nbformat": 4,
 "nbformat_minor": 4
}
