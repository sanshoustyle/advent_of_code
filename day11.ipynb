{
 "cells": [
  {
   "cell_type": "code",
   "execution_count": 33,
   "metadata": {},
   "outputs": [
    {
     "name": "stdout",
     "output_type": "stream",
     "text": [
      "1652\n"
     ]
    }
   ],
   "source": [
    "from collections import defaultdict\n",
    "def dumbo_octopus1(file_name):\n",
    "    f = open(file_name, 'r')\n",
    "    neis = [(0, -1), (-1, 0), (1, 0), (0, 1), (1, 1), (-1, -1), (-1, 1), (1, -1)]    \n",
    "    grid = []\n",
    "    for line in f:\n",
    "        grid.append([])\n",
    "        for num_str in list(line.strip()):\n",
    "            grid[-1].append(int(num_str))\n",
    "    rows = len(grid)\n",
    "    cols = len(grid[0])\n",
    "    def pprint(grid):\n",
    "        print()\n",
    "        print('after one cycle')\n",
    "        for _ in grid:\n",
    "            print(_)\n",
    "        print()\n",
    "    def update_neis(grid, row, col): # operates in the cycle after initial step\n",
    "        chain_flashed = set()\n",
    "        new_flashes = 0\n",
    "        for d_r, d_c in neis:\n",
    "            r_n, c_n = row + d_r, col + d_c\n",
    "            if r_n >= 0 and r_n < rows and c_n >= 0 and c_n < cols and grid[r_n][c_n] != 0:\n",
    "                grid[r_n][c_n] += 1\n",
    "                grid[r_n][c_n] %= 10\n",
    "                if grid[r_n][c_n] == 0: # to be flashed\n",
    "                    new_flashes += 1\n",
    "                    chain_flashed.add((r_n, c_n))\n",
    "        return grid, chain_flashed, new_flashes\n",
    "    def update_grid(grid, steps):\n",
    "        flashes = 0\n",
    "        for step in range(steps): # update simultaneously (incr by 1), then do second pass (if )\n",
    "            to_be_flashed = set() \n",
    "            for row in range(rows):\n",
    "                for col in range(cols):\n",
    "                    grid[row][col] += 1\n",
    "                    grid[row][col] %= 10\n",
    "                    if grid[row][col] == 0:\n",
    "                        flashes += 1\n",
    "                        to_be_flashed.add((row, col))\n",
    "            while to_be_flashed:\n",
    "                next_flashed = set()\n",
    "                for row, col in to_be_flashed:               \n",
    "                    grid, chain_flashed, new_flashes = update_neis(grid, row, col) \n",
    "                    next_flashed |= chain_flashed\n",
    "                    flashes += new_flashes\n",
    "                to_be_flashed = next_flashed\n",
    "#             pprint(grid)\n",
    "        return flashes\n",
    "\n",
    "    total_flashes = update_grid(grid, 100)\n",
    "    return total_flashes\n",
    "print(dumbo_octopus1('input.txt'))\n"
   ]
  },
  {
   "cell_type": "code",
   "execution_count": 26,
   "metadata": {},
   "outputs": [
    {
     "name": "stdout",
     "output_type": "stream",
     "text": [
      "488\n"
     ]
    }
   ],
   "source": [
    "from collections import defaultdict\n",
    "def dumbo_octopus2(file_name):\n",
    "    f = open(file_name, 'r')\n",
    "    neis = [(0, -1), (-1, 0), (1, 0), (0, 1), (1, 1), (-1, -1), (-1, 1), (1, -1)]    \n",
    "    grid = []\n",
    "    for line in f:\n",
    "        grid.append([])\n",
    "        for num_str in list(line.strip()):\n",
    "            grid[-1].append(int(num_str))\n",
    "    rows = len(grid)\n",
    "    cols = len(grid[0])\n",
    "    def pprint(grid):\n",
    "        print()\n",
    "        print('after one cycle')\n",
    "        for _ in grid:\n",
    "            print(_)\n",
    "        print()\n",
    "    def update_neis(grid, row, col): # operates in the cycle after initial step\n",
    "        chain_flashed = set()\n",
    "        new_flashes = 0\n",
    "        for d_r, d_c in neis:\n",
    "            r_n, c_n = row + d_r, col + d_c\n",
    "            if r_n >= 0 and r_n < rows and c_n >= 0 and c_n < cols and grid[r_n][c_n] != 0:\n",
    "                grid[r_n][c_n] += 1\n",
    "                grid[r_n][c_n] %= 10\n",
    "                if grid[r_n][c_n] == 0: # to be flashed\n",
    "                    new_flashes += 1\n",
    "                    chain_flashed.add((r_n, c_n))\n",
    "        return grid, chain_flashed, new_flashes\n",
    "    def update_grid_steps_all_flash(grid):\n",
    "        steps = 0\n",
    "        while steps < 1000: # update simultaneously (incr by 1), then do second pass (if )\n",
    "            to_be_flashed = set() \n",
    "            flashes = 0\n",
    "            for row in range(rows):\n",
    "                for col in range(cols):\n",
    "                    grid[row][col] += 1\n",
    "                    grid[row][col] %= 10\n",
    "                    if grid[row][col] == 0:\n",
    "                        flashes += 1\n",
    "                        to_be_flashed.add((row, col))\n",
    "            while to_be_flashed:\n",
    "                next_flashed = set()\n",
    "                for row, col in to_be_flashed:               \n",
    "                    grid, chain_flashed, new_flashes = update_neis(grid, row, col) \n",
    "                    next_flashed |= chain_flashed\n",
    "                    flashes += new_flashes\n",
    "                to_be_flashed = next_flashed\n",
    "#             pprint(grid)\n",
    "            steps += 1\n",
    "            if flashes == rows * cols: return steps\n",
    "        return -1\n",
    "\n",
    "    total_steps = update_grid_steps_all_flash(grid)\n",
    "    return total_steps\n",
    "print(dumbo_octopus2('input.txt'))"
   ]
  },
  {
   "cell_type": "code",
   "execution_count": null,
   "metadata": {},
   "outputs": [],
   "source": []
  }
 ],
 "metadata": {
  "kernelspec": {
   "display_name": "Python 3",
   "language": "python",
   "name": "python3"
  },
  "language_info": {
   "codemirror_mode": {
    "name": "ipython",
    "version": 3
   },
   "file_extension": ".py",
   "mimetype": "text/x-python",
   "name": "python",
   "nbconvert_exporter": "python",
   "pygments_lexer": "ipython3",
   "version": "3.8.5"
  }
 },
 "nbformat": 4,
 "nbformat_minor": 4
}
