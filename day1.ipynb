{
 "cells": [
  {
   "cell_type": "code",
   "execution_count": 5,
   "metadata": {},
   "outputs": [
    {
     "data": {
      "text/plain": [
       "1475"
      ]
     },
     "execution_count": 5,
     "metadata": {},
     "output_type": "execute_result"
    }
   ],
   "source": [
    "def sonar_sweep1(file_name):\n",
    "    f = open(file_name, 'r')\n",
    "    arr = [int(line) for line in f]\n",
    "    n = len(arr)\n",
    "    num_greater = 0\n",
    "    for i in range(1, n):\n",
    "        if arr[i] > arr[i-1]:\n",
    "            num_greater += 1\n",
    "    return num_greater\n",
    "sonar_sweep1('input.txt')"
   ]
  },
  {
   "cell_type": "code",
   "execution_count": 8,
   "metadata": {},
   "outputs": [
    {
     "data": {
      "text/plain": [
       "1516"
      ]
     },
     "execution_count": 8,
     "metadata": {},
     "output_type": "execute_result"
    }
   ],
   "source": [
    "def sonar_sweep2(file_name):\n",
    "    f = open(file_name, 'r')\n",
    "    arr = [int(line) for line in f]\n",
    "    n = len(arr)\n",
    "    num_greater = 0\n",
    "    # sliding window\n",
    "    curr = sum(arr[0:3])\n",
    "    for i in range(3, n):\n",
    "        prev = curr\n",
    "        curr += arr[i] - arr[i-3]\n",
    "        if curr > prev:\n",
    "            num_greater += 1\n",
    "    return num_greater\n",
    "sonar_sweep2('input.txt')"
   ]
  },
  {
   "cell_type": "code",
   "execution_count": null,
   "metadata": {},
   "outputs": [],
   "source": []
  }
 ],
 "metadata": {
  "kernelspec": {
   "display_name": "Python 3",
   "language": "python",
   "name": "python3"
  },
  "language_info": {
   "codemirror_mode": {
    "name": "ipython",
    "version": 3
   },
   "file_extension": ".py",
   "mimetype": "text/x-python",
   "name": "python",
   "nbconvert_exporter": "python",
   "pygments_lexer": "ipython3",
   "version": "3.8.5"
  }
 },
 "nbformat": 4,
 "nbformat_minor": 4
}
