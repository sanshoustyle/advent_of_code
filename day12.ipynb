{
 "cells": [
  {
   "cell_type": "code",
   "execution_count": 24,
   "metadata": {},
   "outputs": [
    {
     "name": "stdout",
     "output_type": "stream",
     "text": [
      "defaultdict(<class 'set'>, {'ey': {'AL', 'SP', 'zw', 'end', 'lx', 'dv'}, 'dv': {'ms', 'AL', 'zw', 'YT', 'start', 'ey'}, 'AL': {'ms', 'zw', 'hm', 'ey', 'dv'}, 'ms': {'AL', 'hm', 'YT', 'start', 'dv'}, 'lx': {'hm', 'end', 'ey', 'zw'}, 'zw': {'AL', 'hm', 'YT', 'dv', 'lx', 'ey'}, 'YT': {'start', 'ms', 'dv', 'zw'}, 'hm': {'ms', 'AL', 'zw', 'end', 'lx', 'rh'}, 'start': {'dv', 'ms', 'YT'}, 'end': {'hm', 'lx', 'ey'}, 'rh': {'hm'}, 'SP': {'ey'}})\n",
      "3779\n"
     ]
    }
   ],
   "source": [
    "from collections import defaultdict\n",
    "def passage_pathing1(file_name):\n",
    "    f = open(file_name, 'r')\n",
    "    graph = defaultdict(set)\n",
    "    visited = defaultdict(int)\n",
    "    visited['start'] = 1\n",
    "    for line in f:\n",
    "        node1, node2 = line.strip().split('-')\n",
    "        graph[node1].add(node2)\n",
    "        graph[node2].add(node1)\n",
    "    print(graph)\n",
    "    paths = []\n",
    "    total_paths = 0\n",
    "    def unique_paths(src, path_so_far): # backtracking\n",
    "        if src == 'end':\n",
    "            paths.append(path_so_far[:])\n",
    "            return\n",
    "        if (src.islower() and visited[src] <= 1) or src.isupper():\n",
    "#             print(f'{src=}, {path_so_far=}, visiting neis')\n",
    "            for nei in graph[src]:\n",
    "                visited[nei] += 1\n",
    "                unique_paths(nei, path_so_far + [nei])\n",
    "                visited[nei] -= 1\n",
    "\n",
    "    unique_paths('start', ['start'])\n",
    "#     print(f'{paths=}, {len(paths)=}')\n",
    "    return len(paths)\n",
    "print(passage_pathing1('input.txt'))"
   ]
  },
  {
   "cell_type": "code",
   "execution_count": 49,
   "metadata": {},
   "outputs": [
    {
     "name": "stdout",
     "output_type": "stream",
     "text": [
      "defaultdict(<class 'list'>, {'ey': ['AL', 'SP', 'dv', 'end', 'lx', 'zw'], 'dv': ['AL', 'YT', 'ey', 'ms', 'start', 'zw'], 'AL': ['dv', 'ey', 'hm', 'ms', 'zw'], 'ms': ['AL', 'YT', 'dv', 'hm', 'start'], 'lx': ['end', 'ey', 'hm', 'zw'], 'zw': ['AL', 'YT', 'dv', 'ey', 'hm', 'lx'], 'YT': ['dv', 'ms', 'start', 'zw'], 'hm': ['AL', 'end', 'lx', 'ms', 'rh', 'zw'], 'start': ['YT', 'dv', 'ms'], 'end': ['ey', 'hm', 'lx'], 'rh': ['hm'], 'SP': ['ey']})\n",
      "96988\n"
     ]
    }
   ],
   "source": [
    "from collections import defaultdict\n",
    "def passage_pathing2(file_name):\n",
    "    f = open(file_name, 'r')\n",
    "    graph = defaultdict(list)\n",
    "    visited = defaultdict(int)\n",
    "    smalls_visited_twice = set()\n",
    "    visited['start'] = 1\n",
    "    for line in f:\n",
    "        node1, node2 = line.strip().split('-')\n",
    "        graph[node1].append(node2)\n",
    "        graph[node2].append(node1)\n",
    "    for k, v in graph.items():\n",
    "        v.sort()\n",
    "    print(graph)\n",
    "    paths = []\n",
    "    total_paths = 0\n",
    "    def unique_paths(src, path_so_far): # backtracking\n",
    "        if len(smalls_visited_twice) == 2: return\n",
    "        if src == 'end':\n",
    "            paths.append(path_so_far[:])\n",
    "            return\n",
    "        # large: can visit, start: only once, small: not start, visited once (keep going)\n",
    "        if (src.islower() and src != 'start' and (visited[src] <= 1 or visited[src] == 2 and len(smalls_visited_twice) < 1)) or src.isupper() or (src == 'start' and visited[src] == 1):\n",
    "#             print(f'{src=}, {path_so_far=}, visiting neis')\n",
    "            if src.islower() and visited[src] == 2: smalls_visited_twice.add(src)\n",
    "            for nei in graph[src]:\n",
    "                visited[nei] += 1\n",
    "                unique_paths(nei, path_so_far + [nei])\n",
    "                visited[nei] -= 1\n",
    "            if src.islower() and visited[src] == 2: smalls_visited_twice.remove(src)\n",
    "\n",
    "    unique_paths('start', ['start'])\n",
    "#     print(f'{paths=}, {len(paths)=}')\n",
    "#     for path in paths:\n",
    "#         print(path)\n",
    "    return len(paths)\n",
    "print(passage_pathing2('input.txt'))"
   ]
  },
  {
   "cell_type": "code",
   "execution_count": null,
   "metadata": {},
   "outputs": [],
   "source": []
  }
 ],
 "metadata": {
  "kernelspec": {
   "display_name": "Python 3",
   "language": "python",
   "name": "python3"
  },
  "language_info": {
   "codemirror_mode": {
    "name": "ipython",
    "version": 3
   },
   "file_extension": ".py",
   "mimetype": "text/x-python",
   "name": "python",
   "nbconvert_exporter": "python",
   "pygments_lexer": "ipython3",
   "version": "3.8.5"
  }
 },
 "nbformat": 4,
 "nbformat_minor": 4
}
