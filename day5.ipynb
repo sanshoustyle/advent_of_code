{
 "cells": [
  {
   "cell_type": "code",
   "execution_count": 5,
   "metadata": {},
   "outputs": [
    {
     "name": "stdout",
     "output_type": "stream",
     "text": [
      "7674\n"
     ]
    }
   ],
   "source": [
    "from collections import defaultdict\n",
    "def hydrothermal_venture1(file_name):\n",
    "    f = open(file_name, 'r')\n",
    "    # can probably do some algo stuff\n",
    "    points = []\n",
    "    def process_line(line):\n",
    "        start, end = line.split(' -> ')\n",
    "        s_x, s_y = start.split(',')\n",
    "        e_x, e_y = end.split(',')\n",
    "        return (int(s_x), int(s_y)), (int(e_x), int(e_y))\n",
    "    def calc_delta(start, end):\n",
    "        # determine for d_y, d_x if the delta is neg, 0, or pos\n",
    "        return end[0] - start[0], end[1] - start[1]\n",
    "    grid_map = defaultdict(int) # track points hit\n",
    "    ans = 0\n",
    "    for line in f:\n",
    "        start, end = process_line(line)\n",
    "        points.append((start, end))\n",
    "        d_x, d_y = calc_delta(start, end)\n",
    "        if d_x == 0 or d_y == 0: # process the points in between\n",
    "            if d_x == 0:\n",
    "                for y in range(min(start[1], end[1]), max(start[1], end[1]) + 1):\n",
    "                    grid_map[(start[0], y)] += 1\n",
    "                    if grid_map[(start[0], y)] == 2: ans += 1\n",
    "            else:\n",
    "                for x in range(min(start[0], end[0]), max(start[0], end[0]) + 1):\n",
    "                    grid_map[(x, start[1])] += 1\n",
    "                    if grid_map[(x, start[1])] == 2: ans += 1\n",
    "#         print(d_x, d_y)\n",
    "    return ans\n",
    "print(hydrothermal_venture1('input.txt'))"
   ]
  },
  {
   "cell_type": "code",
   "execution_count": 8,
   "metadata": {},
   "outputs": [
    {
     "name": "stdout",
     "output_type": "stream",
     "text": [
      "20898\n"
     ]
    }
   ],
   "source": [
    "from collections import defaultdict\n",
    "def hydrothermal_venture2(file_name):\n",
    "    f = open(file_name, 'r')\n",
    "    # can probably do some algo stuff\n",
    "    points = []\n",
    "    def process_line(line):\n",
    "        start, end = line.split(' -> ')\n",
    "        s_x, s_y = start.split(',')\n",
    "        e_x, e_y = end.split(',')\n",
    "        return (int(s_x), int(s_y)), (int(e_x), int(e_y))\n",
    "    def calc_delta(start, end):\n",
    "        # determine for d_y, d_x if the delta is neg, 0, or pos\n",
    "        return end[0] - start[0], end[1] - start[1]\n",
    "    grid_map = defaultdict(int) # track points hit\n",
    "    ans = 0\n",
    "    for line in f:\n",
    "        start, end = process_line(line)\n",
    "        points.append((start, end))\n",
    "        d_x, d_y = calc_delta(start, end)\n",
    "        if d_x == 0 or d_y == 0: # process the points in between\n",
    "            if d_x == 0:\n",
    "                for y in range(min(start[1], end[1]), max(start[1], end[1]) + 1):\n",
    "                    grid_map[(start[0], y)] += 1\n",
    "                    if grid_map[(start[0], y)] == 2: ans += 1\n",
    "            elif d_y == 0:\n",
    "                for x in range(min(start[0], end[0]), max(start[0], end[0]) + 1):\n",
    "                    grid_map[(x, start[1])] += 1\n",
    "                    if grid_map[(x, start[1])] == 2: ans += 1\n",
    "        elif d_x > 0 and d_y > 0:\n",
    "            curr_x, curr_y = start[0], start[1]\n",
    "            while curr_x <= end[0] and curr_y <= end[1]:\n",
    "                grid_map[(curr_x, curr_y)] += 1\n",
    "                if grid_map[(curr_x, curr_y)] == 2: ans += 1\n",
    "                curr_x += 1\n",
    "                curr_y += 1\n",
    "        elif d_x > 0 and d_y < 0:\n",
    "            curr_x, curr_y = start[0], start[1]\n",
    "            while curr_x <= end[0] and curr_y >= end[1]:\n",
    "                grid_map[(curr_x, curr_y)] += 1\n",
    "                if grid_map[(curr_x, curr_y)] == 2: ans += 1\n",
    "                curr_x += 1\n",
    "                curr_y += -1\n",
    "        elif d_x < 0 and d_y > 0:\n",
    "            curr_x, curr_y = start[0], start[1]\n",
    "            while curr_x >= end[0] and curr_y <= end[1]:\n",
    "                grid_map[(curr_x, curr_y)] += 1\n",
    "                if grid_map[(curr_x, curr_y)] == 2: ans += 1\n",
    "                curr_x += -1\n",
    "                curr_y += 1\n",
    "        elif d_x < 0 and d_y < 0:\n",
    "            curr_x, curr_y = start[0], start[1]\n",
    "            while curr_x >= end[0] and curr_y >= end[1]:\n",
    "                grid_map[(curr_x, curr_y)] += 1\n",
    "                if grid_map[(curr_x, curr_y)] == 2: ans += 1\n",
    "                curr_x += -1\n",
    "                curr_y += -1\n",
    "    return ans\n",
    "print(hydrothermal_venture2('input.txt'))"
   ]
  },
  {
   "cell_type": "code",
   "execution_count": null,
   "metadata": {},
   "outputs": [],
   "source": []
  }
 ],
 "metadata": {
  "kernelspec": {
   "display_name": "Python 3",
   "language": "python",
   "name": "python3"
  },
  "language_info": {
   "codemirror_mode": {
    "name": "ipython",
    "version": 3
   },
   "file_extension": ".py",
   "mimetype": "text/x-python",
   "name": "python",
   "nbconvert_exporter": "python",
   "pygments_lexer": "ipython3",
   "version": "3.8.5"
  }
 },
 "nbformat": 4,
 "nbformat_minor": 4
}
