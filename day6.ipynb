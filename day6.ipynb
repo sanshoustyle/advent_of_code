{
 "cells": [
  {
   "cell_type": "code",
   "execution_count": 6,
   "metadata": {},
   "outputs": [
    {
     "data": {
      "text/plain": [
       "5934"
      ]
     },
     "execution_count": 6,
     "metadata": {},
     "output_type": "execute_result"
    }
   ],
   "source": [
    "from collections import defaultdict\n",
    "def lanternfish1(file_name):\n",
    "    f = open(file_name, 'r')\n",
    "    def run_simulation(init_fish, days):\n",
    "        for day in range(days):\n",
    "            for idx in range(len(init_fish)):\n",
    "                if init_fish[idx] == 0:\n",
    "                    init_fish.append(8)\n",
    "                    init_fish[idx] = 6\n",
    "                else:\n",
    "                    init_fish[idx] -= 1\n",
    "        return len(init_fish)\n",
    "    for line in f:\n",
    "        init_fish = [int(num_str) for num_str in line.split(',')]\n",
    "        total_fish = run_simulation(init_fish, 80)\n",
    "        return total_fish\n",
    "lanternfish1('sample.txt')"
   ]
  },
  {
   "cell_type": "code",
   "execution_count": 13,
   "metadata": {},
   "outputs": [
    {
     "name": "stdout",
     "output_type": "stream",
     "text": [
      "defaultdict(<class 'int'>, {8: 145486046274, 6: 266456586272, 0: 142208288718, 4: 218639975556, 7: 118522934972, 5: 221037431943, 2: 175882069115, 3: 192874197942, 1: 169201747808})\n",
      "1650309278600\n"
     ]
    }
   ],
   "source": [
    "from collections import defaultdict, Counter\n",
    "def lanternfish2(file_name):\n",
    "    f = open(file_name, 'r')\n",
    "    def run_simulation(init_fish, days):\n",
    "        c = Counter(init_fish)\n",
    "        for day in range(days):\n",
    "            new_counter = defaultdict(int)\n",
    "            for val, freq in c.items():\n",
    "                birth_val = 0\n",
    "                birth_freq = 0\n",
    "                if val == 0:\n",
    "                    birth_val = 8\n",
    "                    birth_freq = freq\n",
    "                    new_val = 6\n",
    "                    new_freq = freq\n",
    "                else:\n",
    "                    new_val = val - 1\n",
    "                    new_freq = freq\n",
    "                new_counter[birth_val] += birth_freq\n",
    "                new_counter[new_val] += new_freq\n",
    "                c = new_counter\n",
    "        print(c)\n",
    "        return sum(c.values())\n",
    "    for line in f:\n",
    "        init_fish = [int(num_str) for num_str in line.split(',')]\n",
    "        total_fish = run_simulation(init_fish, 256)\n",
    "        return total_fish\n",
    "print(lanternfish2('input.txt'))"
   ]
  },
  {
   "cell_type": "code",
   "execution_count": null,
   "metadata": {},
   "outputs": [],
   "source": []
  }
 ],
 "metadata": {
  "kernelspec": {
   "display_name": "Python 3",
   "language": "python",
   "name": "python3"
  },
  "language_info": {
   "codemirror_mode": {
    "name": "ipython",
    "version": 3
   },
   "file_extension": ".py",
   "mimetype": "text/x-python",
   "name": "python",
   "nbconvert_exporter": "python",
   "pygments_lexer": "ipython3",
   "version": "3.8.5"
  }
 },
 "nbformat": 4,
 "nbformat_minor": 4
}
