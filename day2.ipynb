{
 "cells": [
  {
   "cell_type": "code",
   "execution_count": 9,
   "metadata": {},
   "outputs": [
    {
     "data": {
      "text/plain": [
       "1989014"
      ]
     },
     "execution_count": 9,
     "metadata": {},
     "output_type": "execute_result"
    }
   ],
   "source": [
    "def dive1(file_name):\n",
    "    f = open(file_name, 'r')\n",
    "    direction_map = {'down': [0, 1], 'up': [0, -1], 'forward': [1, 0]}\n",
    "    x = 0\n",
    "    y = 0 # pos is depth\n",
    "    for line in f:\n",
    "        direction, str_val = line.split()\n",
    "        raw_dx, raw_dy = direction_map[direction]\n",
    "        val = int(str_val)\n",
    "        d_x, d_y = raw_dx * val, raw_dy * val\n",
    "        x += d_x\n",
    "        y += d_y\n",
    "    return x*y\n",
    "dive1('input.txt')"
   ]
  },
  {
   "cell_type": "code",
   "execution_count": 18,
   "metadata": {},
   "outputs": [
    {
     "data": {
      "text/plain": [
       "2006917119"
      ]
     },
     "execution_count": 18,
     "metadata": {},
     "output_type": "execute_result"
    }
   ],
   "source": [
    "def dive2(file_name):\n",
    "    f = open(file_name, 'r')\n",
    "    x = 0\n",
    "    y = 0 # pos is depth\n",
    "    aim = 0\n",
    "    for line in f:\n",
    "        direction, str_val = line.split()\n",
    "        val = int(str_val)\n",
    "        if direction == 'forward':\n",
    "            x += val\n",
    "            y += aim * val\n",
    "        elif direction == 'up':\n",
    "            aim -= val\n",
    "        elif direction == 'down':\n",
    "            aim += val\n",
    "#         print(f'{aim=}, {x=}, {y=}')\n",
    "    return x*y\n",
    "dive2('input.txt')"
   ]
  },
  {
   "cell_type": "code",
   "execution_count": null,
   "metadata": {},
   "outputs": [],
   "source": []
  }
 ],
 "metadata": {
  "kernelspec": {
   "display_name": "Python 3",
   "language": "python",
   "name": "python3"
  },
  "language_info": {
   "codemirror_mode": {
    "name": "ipython",
    "version": 3
   },
   "file_extension": ".py",
   "mimetype": "text/x-python",
   "name": "python",
   "nbconvert_exporter": "python",
   "pygments_lexer": "ipython3",
   "version": "3.8.5"
  }
 },
 "nbformat": 4,
 "nbformat_minor": 4
}
