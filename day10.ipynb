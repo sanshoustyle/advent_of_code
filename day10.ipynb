{
 "cells": [
  {
   "cell_type": "code",
   "execution_count": 5,
   "metadata": {},
   "outputs": [
    {
     "name": "stdout",
     "output_type": "stream",
     "text": [
      "315693\n"
     ]
    }
   ],
   "source": [
    "from collections import defaultdict\n",
    "\n",
    "def invalid_score(s, paren_map, score_map):\n",
    "    st = []\n",
    "    for ch in s:\n",
    "        if ch not in paren_map:\n",
    "            st.append(ch)\n",
    "        else:\n",
    "            expected_ch = paren_map[ch]\n",
    "            if not st or st[-1] != expected_ch:\n",
    "                return score_map[ch], []\n",
    "            st.pop()\n",
    "    return 0, st \n",
    "\n",
    "def syntax_scoring1(file_name):\n",
    "    f = open(file_name, 'r')\n",
    "    paren_map = {')': '(', ']': '[', '}': '{', '>': '<'}\n",
    "    score_map = {')': 3, ']': 57, '}': 1197, '>': 25137}\n",
    " \n",
    "    total_score = 0\n",
    "    for line in f:\n",
    "        total_score += invalid_score(line.strip(), paren_map, score_map)[0]\n",
    "    return total_score\n",
    "print(syntax_scoring1('input.txt'))"
   ]
  },
  {
   "cell_type": "code",
   "execution_count": 10,
   "metadata": {},
   "outputs": [
    {
     "name": "stdout",
     "output_type": "stream",
     "text": [
      "1870887234\n"
     ]
    }
   ],
   "source": [
    "from collections import defaultdict\n",
    "def syntax_scoring2(file_name):\n",
    "    f = open(file_name, 'r')\n",
    "    paren_map = {')': '(', ']': '[', '}': '{', '>': '<'}\n",
    "    score_map = {')': 3, ']': 57, '}': 1197, '>': 25137}\n",
    "    inc_score_map = {'(': 1, '[': 2, '{': 3, '<': 4}\n",
    "    scores = []\n",
    "    for line in f:\n",
    "        inv_score, st = invalid_score(line.strip(), paren_map, score_map)\n",
    "        if inv_score == 0:\n",
    "            score = 0\n",
    "            while st:\n",
    "                score *= 5\n",
    "                score += inc_score_map[st.pop()]\n",
    "            scores.append(score)\n",
    "    n = len(scores)\n",
    "    return sorted(scores)[n // 2]\n",
    "print(syntax_scoring2('input.txt'))"
   ]
  },
  {
   "cell_type": "code",
   "execution_count": null,
   "metadata": {},
   "outputs": [],
   "source": []
  }
 ],
 "metadata": {
  "kernelspec": {
   "display_name": "Python 3",
   "language": "python",
   "name": "python3"
  },
  "language_info": {
   "codemirror_mode": {
    "name": "ipython",
    "version": 3
   },
   "file_extension": ".py",
   "mimetype": "text/x-python",
   "name": "python",
   "nbconvert_exporter": "python",
   "pygments_lexer": "ipython3",
   "version": "3.8.5"
  }
 },
 "nbformat": 4,
 "nbformat_minor": 4
}
